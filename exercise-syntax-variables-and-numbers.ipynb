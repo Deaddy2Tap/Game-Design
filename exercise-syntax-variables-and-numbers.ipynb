{
 "cells": [
  {
   "cell_type": "markdown",
   "id": "99c81ddc",
   "metadata": {
    "papermill": {
     "duration": 0.005759,
     "end_time": "2023-11-08T20:08:44.379095",
     "exception": false,
     "start_time": "2023-11-08T20:08:44.373336",
     "status": "completed"
    },
    "tags": []
   },
   "source": [
    "**This notebook is an exercise in the [Python](https://www.kaggle.com/learn/python) course.  You can reference the tutorial at [this link](https://www.kaggle.com/colinmorris/hello-python).**\n",
    "\n",
    "---\n"
   ]
  },
  {
   "cell_type": "markdown",
   "id": "9ba9849a",
   "metadata": {
    "papermill": {
     "duration": 0.004557,
     "end_time": "2023-11-08T20:08:44.388554",
     "exception": false,
     "start_time": "2023-11-08T20:08:44.383997",
     "status": "completed"
    },
    "tags": []
   },
   "source": [
    "Welcome to your first set of Python coding problems.  If this is your first time using Kaggle Notebooks, welcome! \n",
    "\n",
    "Notebooks are composed of blocks (called \"cells\") of text and code. Each of these is editable, though you'll mainly be editing the code cells to answer some questions.\n",
    "\n",
    "To get started, try running the code cell below (by pressing the ► button, or clicking on the cell and pressing ctrl+enter on your keyboard)."
   ]
  },
  {
   "cell_type": "code",
   "execution_count": 1,
   "id": "89497699",
   "metadata": {
    "execution": {
     "iopub.execute_input": "2023-11-08T20:08:44.400455Z",
     "iopub.status.busy": "2023-11-08T20:08:44.399805Z",
     "iopub.status.idle": "2023-11-08T20:08:44.409363Z",
     "shell.execute_reply": "2023-11-08T20:08:44.408397Z"
    },
    "papermill": {
     "duration": 0.018005,
     "end_time": "2023-11-08T20:08:44.411327",
     "exception": false,
     "start_time": "2023-11-08T20:08:44.393322",
     "status": "completed"
    },
    "tags": []
   },
   "outputs": [
    {
     "name": "stdout",
     "output_type": "stream",
     "text": [
      "You've successfully run some Python code\n",
      "Congratulations!\n"
     ]
    }
   ],
   "source": [
    "print(\"You've successfully run some Python code\")\n",
    "print(\"Congratulations!\")"
   ]
  },
  {
   "cell_type": "markdown",
   "id": "2a4b3bc6",
   "metadata": {
    "papermill": {
     "duration": 0.004376,
     "end_time": "2023-11-08T20:08:44.420597",
     "exception": false,
     "start_time": "2023-11-08T20:08:44.416221",
     "status": "completed"
    },
    "tags": []
   },
   "source": [
    "Try adding another line of code in the cell above and re-running it. \n",
    "\n",
    "Now let's get a little fancier:  Add a new code cell by clicking on an existing code cell, hitting the escape key, and then hitting the `a` or `b` key.  The `a` key will add a cell above the current cell, and `b` adds a cell below.\n",
    "\n",
    "Great! Now you know how to use Notebooks.\n",
    "\n",
    "Each hands-on exercise starts by setting up our feedback and code checking mechanism. Run the code cell below to do that. Then you'll be ready to move on to question 0."
   ]
  },
  {
   "cell_type": "code",
   "execution_count": 2,
   "id": "ead37300",
   "metadata": {
    "_kg_hide-input": true,
    "_kg_hide-output": true,
    "execution": {
     "iopub.execute_input": "2023-11-08T20:08:44.433682Z",
     "iopub.status.busy": "2023-11-08T20:08:44.433235Z",
     "iopub.status.idle": "2023-11-08T20:08:44.783522Z",
     "shell.execute_reply": "2023-11-08T20:08:44.782048Z"
    },
    "papermill": {
     "duration": 0.359502,
     "end_time": "2023-11-08T20:08:44.785844",
     "exception": false,
     "start_time": "2023-11-08T20:08:44.426342",
     "status": "completed"
    },
    "tags": []
   },
   "outputs": [
    {
     "name": "stdout",
     "output_type": "stream",
     "text": [
      "Setup complete! You're ready to start question 0.\n"
     ]
    }
   ],
   "source": [
    "from learntools.core import binder; binder.bind(globals())\n",
    "from learntools.python.ex1 import *\n",
    "print(\"Setup complete! You're ready to start question 0.\")"
   ]
  },
  {
   "cell_type": "markdown",
   "id": "e106796f",
   "metadata": {
    "papermill": {
     "duration": 0.004696,
     "end_time": "2023-11-08T20:08:44.796121",
     "exception": false,
     "start_time": "2023-11-08T20:08:44.791425",
     "status": "completed"
    },
    "tags": []
   },
   "source": [
    "# 0.\n",
    "\n",
    "*This is a silly question intended as an introduction to the format we use for hands-on exercises throughout all Kaggle courses.*\n",
    "\n",
    "**What is your favorite color? **\n",
    "\n",
    "To complete this question, create a variable called `color` in the cell below with an appropriate value. The function call `q0.check()` (which we've already provided in the cell below) will check your answer."
   ]
  },
  {
   "cell_type": "code",
   "execution_count": 3,
   "id": "22694bf4",
   "metadata": {
    "execution": {
     "iopub.execute_input": "2023-11-08T20:08:44.807682Z",
     "iopub.status.busy": "2023-11-08T20:08:44.807151Z",
     "iopub.status.idle": "2023-11-08T20:08:44.815344Z",
     "shell.execute_reply": "2023-11-08T20:08:44.814512Z"
    },
    "papermill": {
     "duration": 0.015902,
     "end_time": "2023-11-08T20:08:44.816915",
     "exception": false,
     "start_time": "2023-11-08T20:08:44.801013",
     "status": "completed"
    },
    "tags": []
   },
   "outputs": [
    {
     "data": {
      "application/javascript": [
       "parent.postMessage({\"jupyterEvent\": \"custom.exercise_interaction\", \"data\": {\"outcomeType\": 4, \"interactionType\": 1, \"questionType\": 2, \"questionId\": \"0_ExerciseFormatTutorial\", \"learnToolsVersion\": \"0.3.4\", \"valueTowardsCompletion\": 0.0, \"failureMessage\": \"\", \"exceptionClass\": \"\", \"trace\": \"\"}}, \"*\")"
      ],
      "text/plain": [
       "<IPython.core.display.Javascript object>"
      ]
     },
     "metadata": {},
     "output_type": "display_data"
    },
    {
     "data": {
      "text/markdown": [
       "<span style=\"color:#ccaa33\">Check:</span> When you've updated the starter code, `check()` will tell you whether your code is correct. Remember, you must create the following variable: `color`"
      ],
      "text/plain": [
       "Check: When you've updated the starter code, `check()` will tell you whether your code is correct. Remember, you must create the following variable: `color`"
      ]
     },
     "metadata": {},
     "output_type": "display_data"
    }
   ],
   "source": [
    "# create a variable called color with an appropriate value on the line below\n",
    "# (Remember, strings in Python must be enclosed in 'single' or \"double\" quotes)\n",
    "____\n",
    "\n",
    "# Check your answer\n",
    "q0.check()"
   ]
  },
  {
   "cell_type": "markdown",
   "id": "38378ed0",
   "metadata": {
    "papermill": {
     "duration": 0.005055,
     "end_time": "2023-11-08T20:08:44.827198",
     "exception": false,
     "start_time": "2023-11-08T20:08:44.822143",
     "status": "completed"
    },
    "tags": []
   },
   "source": [
    "Didn't get the right answer? How do you not even know your own favorite color?!\n",
    "\n",
    "Delete the `#` in the line below to make one of the lines run. You can choose between getting a hint or the full answer by choosing which line to remove the `#` from. \n",
    "\n",
    "Removing the `#` is called uncommenting, because it changes that line from a \"comment\" which Python doesn't run to code, which Python does run."
   ]
  },
  {
   "cell_type": "code",
   "execution_count": 4,
   "id": "f94c8d57",
   "metadata": {
    "execution": {
     "iopub.execute_input": "2023-11-08T20:08:44.838502Z",
     "iopub.status.busy": "2023-11-08T20:08:44.838159Z",
     "iopub.status.idle": "2023-11-08T20:08:44.841935Z",
     "shell.execute_reply": "2023-11-08T20:08:44.841227Z"
    },
    "papermill": {
     "duration": 0.011131,
     "end_time": "2023-11-08T20:08:44.843499",
     "exception": false,
     "start_time": "2023-11-08T20:08:44.832368",
     "status": "completed"
    },
    "tags": []
   },
   "outputs": [],
   "source": [
    "#q0.hint()\n",
    "#q0.solution()"
   ]
  },
  {
   "cell_type": "markdown",
   "id": "a71b6d2d",
   "metadata": {
    "papermill": {
     "duration": 0.004985,
     "end_time": "2023-11-08T20:08:44.854451",
     "exception": false,
     "start_time": "2023-11-08T20:08:44.849466",
     "status": "completed"
    },
    "tags": []
   },
   "source": [
    "The upcoming questions work the same way. The only thing that will change are the question numbers. For the next question, you'll call `q1.check()`, `q1.hint()`, `q1.solution()`, for question 2, you'll call `q2.check()`, and so on."
   ]
  },
  {
   "cell_type": "markdown",
   "id": "33649275",
   "metadata": {
    "papermill": {
     "duration": 0.004944,
     "end_time": "2023-11-08T20:08:44.864442",
     "exception": false,
     "start_time": "2023-11-08T20:08:44.859498",
     "status": "completed"
    },
    "tags": []
   },
   "source": [
    "<hr/>\n",
    "\n",
    "# 1.\n",
    "\n",
    "Complete the code below. In case it's helpful, here is the table of available arithmetic operations:\n",
    "\n",
    "\n",
    "\n",
    "| Operator     | Name           | Description                                            |\n",
    "|--------------|----------------|--------------------------------------------------------|\n",
    "| ``a + b``    | Addition       | Sum of ``a`` and ``b``                                 |\n",
    "| ``a - b``    | Subtraction    | Difference of ``a`` and ``b``                          |\n",
    "| ``a * b``    | Multiplication | Product of ``a`` and ``b``                             |\n",
    "| ``a / b``    | True division  | Quotient of ``a`` and ``b``                            |\n",
    "| ``a // b``   | Floor division | Quotient of ``a`` and ``b``, removing fractional parts |\n",
    "| ``a % b``    | Modulus        | Integer remainder after division of ``a`` by ``b``     |\n",
    "| ``a ** b``   | Exponentiation | ``a`` raised to the power of ``b``                     |\n",
    "| ``-a``       | Negation       | The negative of ``a``                                  |\n",
    "\n",
    "<span style=\"display:none\"></span>\n"
   ]
  },
  {
   "cell_type": "code",
   "execution_count": 5,
   "id": "42ee4d4d",
   "metadata": {
    "execution": {
     "iopub.execute_input": "2023-11-08T20:08:44.876879Z",
     "iopub.status.busy": "2023-11-08T20:08:44.875812Z",
     "iopub.status.idle": "2023-11-08T20:08:44.882805Z",
     "shell.execute_reply": "2023-11-08T20:08:44.882214Z"
    },
    "papermill": {
     "duration": 0.014808,
     "end_time": "2023-11-08T20:08:44.884262",
     "exception": false,
     "start_time": "2023-11-08T20:08:44.869454",
     "status": "completed"
    },
    "tags": []
   },
   "outputs": [
    {
     "data": {
      "application/javascript": [
       "parent.postMessage({\"jupyterEvent\": \"custom.exercise_interaction\", \"data\": {\"outcomeType\": 4, \"interactionType\": 1, \"questionType\": 1, \"questionId\": \"1_CircleArea\", \"learnToolsVersion\": \"0.3.4\", \"valueTowardsCompletion\": 0.0, \"failureMessage\": \"\", \"exceptionClass\": \"\", \"trace\": \"\"}}, \"*\")"
      ],
      "text/plain": [
       "<IPython.core.display.Javascript object>"
      ]
     },
     "metadata": {},
     "output_type": "display_data"
    },
    {
     "data": {
      "text/markdown": [
       "<span style=\"color:#ccaa33\">Check:</span> When you've updated the starter code, `check()` will tell you whether your code is correct. Remember, you must create the following variables: `area`, `radius`"
      ],
      "text/plain": [
       "Check: When you've updated the starter code, `check()` will tell you whether your code is correct. Remember, you must create the following variables: `area`, `radius`"
      ]
     },
     "metadata": {},
     "output_type": "display_data"
    }
   ],
   "source": [
    "pi = 3.14159 # approximate\n",
    "diameter = 3\n",
    "\n",
    "# Create a variable called 'radius' equal to half the diameter\n",
    "____\n",
    "\n",
    "# Create a variable called 'area', using the formula for the area of a circle: pi times the radius squared\n",
    "____\n",
    "\n",
    "# Check your answer\n",
    "q1.check()"
   ]
  },
  {
   "cell_type": "code",
   "execution_count": 6,
   "id": "174634bc",
   "metadata": {
    "execution": {
     "iopub.execute_input": "2023-11-08T20:08:44.896834Z",
     "iopub.status.busy": "2023-11-08T20:08:44.895837Z",
     "iopub.status.idle": "2023-11-08T20:08:44.899452Z",
     "shell.execute_reply": "2023-11-08T20:08:44.898816Z"
    },
    "papermill": {
     "duration": 0.011246,
     "end_time": "2023-11-08T20:08:44.900880",
     "exception": false,
     "start_time": "2023-11-08T20:08:44.889634",
     "status": "completed"
    },
    "tags": []
   },
   "outputs": [],
   "source": [
    "# Uncomment and run the lines below if you need help.\n",
    "#q1.hint()\n",
    "#q1.solution()"
   ]
  },
  {
   "cell_type": "markdown",
   "id": "aa5ac69f",
   "metadata": {
    "papermill": {
     "duration": 0.005148,
     "end_time": "2023-11-08T20:08:44.911553",
     "exception": false,
     "start_time": "2023-11-08T20:08:44.906405",
     "status": "completed"
    },
    "tags": []
   },
   "source": [
    "<hr/>\n",
    "\n",
    "# 2.\n",
    "\n",
    "Add code to the following cell to swap variables `a` and `b` (so that `a` refers to the object previously referred to by `b` and vice versa)."
   ]
  },
  {
   "cell_type": "code",
   "execution_count": 7,
   "id": "87f7e0c4",
   "metadata": {
    "execution": {
     "iopub.execute_input": "2023-11-08T20:08:44.924911Z",
     "iopub.status.busy": "2023-11-08T20:08:44.923891Z",
     "iopub.status.idle": "2023-11-08T20:08:44.932599Z",
     "shell.execute_reply": "2023-11-08T20:08:44.931979Z"
    },
    "papermill": {
     "duration": 0.01712,
     "end_time": "2023-11-08T20:08:44.934259",
     "exception": false,
     "start_time": "2023-11-08T20:08:44.917139",
     "status": "completed"
    },
    "tags": []
   },
   "outputs": [
    {
     "data": {
      "application/javascript": [
       "parent.postMessage({\"jupyterEvent\": \"custom.exercise_interaction\", \"data\": {\"outcomeType\": 2, \"failureMessage\": \"`a` and `b` still have their original values.\", \"interactionType\": 1, \"questionType\": 2, \"questionId\": \"2_VariableSwap\", \"learnToolsVersion\": \"0.3.4\", \"valueTowardsCompletion\": 0.0, \"exceptionClass\": \"\", \"trace\": \"\"}}, \"*\")"
      ],
      "text/plain": [
       "<IPython.core.display.Javascript object>"
      ]
     },
     "metadata": {},
     "output_type": "display_data"
    },
    {
     "data": {
      "text/markdown": [
       "<span style=\"color:#cc3333\">Incorrect:</span> `a` and `b` still have their original values."
      ],
      "text/plain": [
       "Incorrect: `a` and `b` still have their original values."
      ]
     },
     "metadata": {},
     "output_type": "display_data"
    }
   ],
   "source": [
    "########### Setup code - don't touch this part ######################\n",
    "# If you're curious, these are examples of lists. We'll talk about \n",
    "# them in depth a few lessons from now. For now, just know that they're\n",
    "# yet another type of Python object, like int or float.\n",
    "a = [1, 2, 3]\n",
    "b = [3, 2, 1]\n",
    "q2.store_original_ids()\n",
    "######################################################################\n",
    "\n",
    "# Your code goes here. Swap the values to which a and b refer.\n",
    "# If you get stuck, you can always uncomment one or both of the lines in\n",
    "# the next cell for a hint, or to peek at the solution.\n",
    "\n",
    "######################################################################\n",
    "\n",
    "# Check your answer\n",
    "q2.check()"
   ]
  },
  {
   "cell_type": "code",
   "execution_count": 8,
   "id": "69f92008",
   "metadata": {
    "execution": {
     "iopub.execute_input": "2023-11-08T20:08:44.948311Z",
     "iopub.status.busy": "2023-11-08T20:08:44.947370Z",
     "iopub.status.idle": "2023-11-08T20:08:44.952855Z",
     "shell.execute_reply": "2023-11-08T20:08:44.951367Z"
    },
    "papermill": {
     "duration": 0.015602,
     "end_time": "2023-11-08T20:08:44.955906",
     "exception": false,
     "start_time": "2023-11-08T20:08:44.940304",
     "status": "completed"
    },
    "tags": []
   },
   "outputs": [],
   "source": [
    "#q2.hint()"
   ]
  },
  {
   "cell_type": "code",
   "execution_count": 9,
   "id": "f28b19e9",
   "metadata": {
    "execution": {
     "iopub.execute_input": "2023-11-08T20:08:44.970572Z",
     "iopub.status.busy": "2023-11-08T20:08:44.970154Z",
     "iopub.status.idle": "2023-11-08T20:08:44.974839Z",
     "shell.execute_reply": "2023-11-08T20:08:44.973793Z"
    },
    "papermill": {
     "duration": 0.014205,
     "end_time": "2023-11-08T20:08:44.976745",
     "exception": false,
     "start_time": "2023-11-08T20:08:44.962540",
     "status": "completed"
    },
    "tags": []
   },
   "outputs": [],
   "source": [
    "#q2.solution()"
   ]
  },
  {
   "cell_type": "markdown",
   "id": "75c0cb0f",
   "metadata": {
    "papermill": {
     "duration": 0.005779,
     "end_time": "2023-11-08T20:08:44.989234",
     "exception": false,
     "start_time": "2023-11-08T20:08:44.983455",
     "status": "completed"
    },
    "tags": []
   },
   "source": [
    "<hr/>\n",
    "\n",
    "# 3a.\n",
    "\n",
    "Add parentheses to the following expression so that it evaluates to 1."
   ]
  },
  {
   "cell_type": "code",
   "execution_count": 10,
   "id": "b742e4cf",
   "metadata": {
    "execution": {
     "iopub.execute_input": "2023-11-08T20:08:45.004279Z",
     "iopub.status.busy": "2023-11-08T20:08:45.003492Z",
     "iopub.status.idle": "2023-11-08T20:08:45.009395Z",
     "shell.execute_reply": "2023-11-08T20:08:45.008311Z"
    },
    "papermill": {
     "duration": 0.015911,
     "end_time": "2023-11-08T20:08:45.011189",
     "exception": false,
     "start_time": "2023-11-08T20:08:44.995278",
     "status": "completed"
    },
    "tags": []
   },
   "outputs": [
    {
     "data": {
      "text/plain": [
       "4"
      ]
     },
     "execution_count": 10,
     "metadata": {},
     "output_type": "execute_result"
    }
   ],
   "source": [
    "5 - 3 // 2"
   ]
  },
  {
   "cell_type": "code",
   "execution_count": 11,
   "id": "64203013",
   "metadata": {
    "execution": {
     "iopub.execute_input": "2023-11-08T20:08:45.026622Z",
     "iopub.status.busy": "2023-11-08T20:08:45.026229Z",
     "iopub.status.idle": "2023-11-08T20:08:45.030103Z",
     "shell.execute_reply": "2023-11-08T20:08:45.029232Z"
    },
    "papermill": {
     "duration": 0.01435,
     "end_time": "2023-11-08T20:08:45.032141",
     "exception": false,
     "start_time": "2023-11-08T20:08:45.017791",
     "status": "completed"
    },
    "tags": []
   },
   "outputs": [],
   "source": [
    "#q3.a.hint()"
   ]
  },
  {
   "cell_type": "code",
   "execution_count": 12,
   "id": "d5d62886",
   "metadata": {
    "execution": {
     "iopub.execute_input": "2023-11-08T20:08:45.047530Z",
     "iopub.status.busy": "2023-11-08T20:08:45.046871Z",
     "iopub.status.idle": "2023-11-08T20:08:45.055795Z",
     "shell.execute_reply": "2023-11-08T20:08:45.054906Z"
    },
    "papermill": {
     "duration": 0.018538,
     "end_time": "2023-11-08T20:08:45.057618",
     "exception": false,
     "start_time": "2023-11-08T20:08:45.039080",
     "status": "completed"
    },
    "tags": []
   },
   "outputs": [
    {
     "data": {
      "application/javascript": [
       "parent.postMessage({\"jupyterEvent\": \"custom.exercise_interaction\", \"data\": {\"interactionType\": 3, \"questionType\": 4, \"questionId\": \"3.1_ArithmeticParensEasy\", \"learnToolsVersion\": \"0.3.4\", \"valueTowardsCompletion\": 0.0, \"failureMessage\": \"\", \"exceptionClass\": \"\", \"trace\": \"\", \"outcomeType\": 4}}, \"*\")"
      ],
      "text/plain": [
       "<IPython.core.display.Javascript object>"
      ]
     },
     "metadata": {},
     "output_type": "display_data"
    },
    {
     "data": {
      "text/markdown": [
       "<span style=\"color:#33cc99\">Solution:</span> \n",
       "```python\n",
       "(5 - 3) // 2\n",
       "```"
      ],
      "text/plain": [
       "Solution: \n",
       "```python\n",
       "(5 - 3) // 2\n",
       "```"
      ]
     },
     "metadata": {},
     "output_type": "display_data"
    }
   ],
   "source": [
    "# Check your answer (Run this code cell to receive credit!)\n",
    "q3.a.solution()"
   ]
  },
  {
   "cell_type": "markdown",
   "id": "614b2980",
   "metadata": {
    "papermill": {
     "duration": 0.00649,
     "end_time": "2023-11-08T20:08:45.071063",
     "exception": false,
     "start_time": "2023-11-08T20:08:45.064573",
     "status": "completed"
    },
    "tags": []
   },
   "source": [
    "# 3b.  <span title=\"A bit spicy\" style=\"color: darkgreen \">🌶️</span>\n",
    "\n",
    "<small>Questions, like this one, marked a spicy pepper are a bit harder.</small>\n",
    "\n",
    "Add parentheses to the following expression so that it evaluates to 0."
   ]
  },
  {
   "cell_type": "code",
   "execution_count": 13,
   "id": "f80de880",
   "metadata": {
    "execution": {
     "iopub.execute_input": "2023-11-08T20:08:45.086882Z",
     "iopub.status.busy": "2023-11-08T20:08:45.085986Z",
     "iopub.status.idle": "2023-11-08T20:08:45.092436Z",
     "shell.execute_reply": "2023-11-08T20:08:45.091734Z"
    },
    "papermill": {
     "duration": 0.016323,
     "end_time": "2023-11-08T20:08:45.094202",
     "exception": false,
     "start_time": "2023-11-08T20:08:45.077879",
     "status": "completed"
    },
    "tags": []
   },
   "outputs": [
    {
     "data": {
      "text/plain": [
       "2"
      ]
     },
     "execution_count": 13,
     "metadata": {},
     "output_type": "execute_result"
    }
   ],
   "source": [
    "8 - 3 * 2 - 1 + 1"
   ]
  },
  {
   "cell_type": "code",
   "execution_count": 14,
   "id": "ee7ef112",
   "metadata": {
    "execution": {
     "iopub.execute_input": "2023-11-08T20:08:45.111536Z",
     "iopub.status.busy": "2023-11-08T20:08:45.110741Z",
     "iopub.status.idle": "2023-11-08T20:08:45.115971Z",
     "shell.execute_reply": "2023-11-08T20:08:45.114282Z"
    },
    "papermill": {
     "duration": 0.017752,
     "end_time": "2023-11-08T20:08:45.119160",
     "exception": false,
     "start_time": "2023-11-08T20:08:45.101408",
     "status": "completed"
    },
    "tags": []
   },
   "outputs": [],
   "source": [
    "#q3.b.hint()"
   ]
  },
  {
   "cell_type": "code",
   "execution_count": 15,
   "id": "5872e847",
   "metadata": {
    "execution": {
     "iopub.execute_input": "2023-11-08T20:08:45.135530Z",
     "iopub.status.busy": "2023-11-08T20:08:45.135120Z",
     "iopub.status.idle": "2023-11-08T20:08:45.142725Z",
     "shell.execute_reply": "2023-11-08T20:08:45.142070Z"
    },
    "papermill": {
     "duration": 0.018629,
     "end_time": "2023-11-08T20:08:45.145135",
     "exception": false,
     "start_time": "2023-11-08T20:08:45.126506",
     "status": "completed"
    },
    "tags": []
   },
   "outputs": [
    {
     "data": {
      "application/javascript": [
       "parent.postMessage({\"jupyterEvent\": \"custom.exercise_interaction\", \"data\": {\"interactionType\": 3, \"questionType\": 4, \"questionId\": \"3.2_ArithmeticParensHard\", \"learnToolsVersion\": \"0.3.4\", \"valueTowardsCompletion\": 0.0, \"failureMessage\": \"\", \"exceptionClass\": \"\", \"trace\": \"\", \"outcomeType\": 4}}, \"*\")"
      ],
      "text/plain": [
       "<IPython.core.display.Javascript object>"
      ]
     },
     "metadata": {},
     "output_type": "display_data"
    },
    {
     "data": {
      "text/markdown": [
       "<span style=\"color:#33cc99\">Solution:</span> `(8 - 3) * (2 - (1 + 1))` is one solution. There may be others."
      ],
      "text/plain": [
       "Solution: `(8 - 3) * (2 - (1 + 1))` is one solution. There may be others."
      ]
     },
     "metadata": {},
     "output_type": "display_data"
    }
   ],
   "source": [
    "# Check your answer (Run this code cell to receive credit!)\n",
    "q3.b.solution()"
   ]
  },
  {
   "cell_type": "markdown",
   "id": "0d03f7ef",
   "metadata": {
    "papermill": {
     "duration": 0.006687,
     "end_time": "2023-11-08T20:08:45.159009",
     "exception": false,
     "start_time": "2023-11-08T20:08:45.152322",
     "status": "completed"
    },
    "tags": []
   },
   "source": [
    "<hr/>\n",
    "\n",
    "# 4. \n",
    "Alice, Bob and Carol have agreed to pool their Halloween candy and split it evenly among themselves.\n",
    "For the sake of their friendship, any candies left over will be smashed. For example, if they collectively\n",
    "bring home 91 candies, they'll take 30 each and smash 1.\n",
    "\n",
    "Write an arithmetic expression below to calculate how many candies they must smash for a given haul."
   ]
  },
  {
   "cell_type": "code",
   "execution_count": 16,
   "id": "376802ff",
   "metadata": {
    "execution": {
     "iopub.execute_input": "2023-11-08T20:08:45.174950Z",
     "iopub.status.busy": "2023-11-08T20:08:45.174603Z",
     "iopub.status.idle": "2023-11-08T20:08:45.184157Z",
     "shell.execute_reply": "2023-11-08T20:08:45.182587Z"
    },
    "papermill": {
     "duration": 0.021176,
     "end_time": "2023-11-08T20:08:45.187202",
     "exception": false,
     "start_time": "2023-11-08T20:08:45.166026",
     "status": "completed"
    },
    "tags": []
   },
   "outputs": [
    {
     "data": {
      "application/javascript": [
       "parent.postMessage({\"jupyterEvent\": \"custom.exercise_interaction\", \"data\": {\"outcomeType\": 4, \"interactionType\": 1, \"questionType\": 1, \"questionId\": \"4_CandySplitting\", \"learnToolsVersion\": \"0.3.4\", \"valueTowardsCompletion\": 0.0, \"failureMessage\": \"\", \"exceptionClass\": \"\", \"trace\": \"\"}}, \"*\")"
      ],
      "text/plain": [
       "<IPython.core.display.Javascript object>"
      ]
     },
     "metadata": {},
     "output_type": "display_data"
    },
    {
     "data": {
      "text/markdown": [
       "<span style=\"color:#ccaa33\">Check:</span> When you've updated the starter code, `check()` will tell you whether your code is correct. You need to update the code that creates variable `to_smash`"
      ],
      "text/plain": [
       "Check: When you've updated the starter code, `check()` will tell you whether your code is correct. You need to update the code that creates variable `to_smash`"
      ]
     },
     "metadata": {},
     "output_type": "display_data"
    }
   ],
   "source": [
    "# Variables representing the number of candies collected by alice, bob, and carol\n",
    "alice_candies = 121\n",
    "bob_candies = 77\n",
    "carol_candies = 109\n",
    "\n",
    "# Your code goes here! Replace the right-hand side of this assignment with an expression\n",
    "# involving alice_candies, bob_candies, and carol_candies\n",
    "to_smash = -1\n",
    "\n",
    "# Check your answer\n",
    "q4.check()"
   ]
  },
  {
   "cell_type": "code",
   "execution_count": 17,
   "id": "ee127c81",
   "metadata": {
    "execution": {
     "iopub.execute_input": "2023-11-08T20:08:45.204160Z",
     "iopub.status.busy": "2023-11-08T20:08:45.203817Z",
     "iopub.status.idle": "2023-11-08T20:08:45.208584Z",
     "shell.execute_reply": "2023-11-08T20:08:45.207559Z"
    },
    "papermill": {
     "duration": 0.015404,
     "end_time": "2023-11-08T20:08:45.210319",
     "exception": false,
     "start_time": "2023-11-08T20:08:45.194915",
     "status": "completed"
    },
    "tags": []
   },
   "outputs": [],
   "source": [
    "#q4.hint()\n",
    "#q4.solution()"
   ]
  },
  {
   "cell_type": "markdown",
   "id": "fe92ac5e",
   "metadata": {
    "papermill": {
     "duration": 0.006875,
     "end_time": "2023-11-08T20:08:45.224581",
     "exception": false,
     "start_time": "2023-11-08T20:08:45.217706",
     "status": "completed"
    },
    "tags": []
   },
   "source": [
    "# Keep Going\n",
    "\n",
    "Next up, you'll **[learn to write new functions and understand functions others write](https://www.kaggle.com/colinmorris/functions-and-getting-help)**. This will make you at least 10 times more productive as a Python programmer. "
   ]
  },
  {
   "cell_type": "markdown",
   "id": "f964d232",
   "metadata": {
    "papermill": {
     "duration": 0.006902,
     "end_time": "2023-11-08T20:08:45.238630",
     "exception": false,
     "start_time": "2023-11-08T20:08:45.231728",
     "status": "completed"
    },
    "tags": []
   },
   "source": [
    "---\n",
    "\n",
    "\n",
    "\n",
    "\n",
    "*Have questions or comments? Visit the [course discussion forum](https://www.kaggle.com/learn/python/discussion) to chat with other learners.*"
   ]
  }
 ],
 "metadata": {
  "kernelspec": {
   "display_name": "Python 3",
   "language": "python",
   "name": "python3"
  },
  "language_info": {
   "codemirror_mode": {
    "name": "ipython",
    "version": 3
   },
   "file_extension": ".py",
   "mimetype": "text/x-python",
   "name": "python",
   "nbconvert_exporter": "python",
   "pygments_lexer": "ipython3",
   "version": "3.10.12"
  },
  "papermill": {
   "default_parameters": {},
   "duration": 4.166623,
   "end_time": "2023-11-08T20:08:45.665475",
   "environment_variables": {},
   "exception": null,
   "input_path": "__notebook__.ipynb",
   "output_path": "__notebook__.ipynb",
   "parameters": {},
   "start_time": "2023-11-08T20:08:41.498852",
   "version": "2.4.0"
  }
 },
 "nbformat": 4,
 "nbformat_minor": 5
}
