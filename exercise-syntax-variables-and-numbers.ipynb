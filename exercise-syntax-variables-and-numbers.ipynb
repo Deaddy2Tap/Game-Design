{
 "cells": [
  {
   "cell_type": "markdown",
   "id": "9c86e052",
   "metadata": {
    "papermill": {
     "duration": 0.00883,
     "end_time": "2023-11-08T20:20:45.900085",
     "exception": false,
     "start_time": "2023-11-08T20:20:45.891255",
     "status": "completed"
    },
    "tags": []
   },
   "source": [
    "**This notebook is an exercise in the [Python](https://www.kaggle.com/learn/python) course.  You can reference the tutorial at [this link](https://www.kaggle.com/colinmorris/hello-python).**\n",
    "\n",
    "---\n"
   ]
  },
  {
   "cell_type": "markdown",
   "id": "a030869b",
   "metadata": {
    "papermill": {
     "duration": 0.007814,
     "end_time": "2023-11-08T20:20:45.916143",
     "exception": false,
     "start_time": "2023-11-08T20:20:45.908329",
     "status": "completed"
    },
    "tags": []
   },
   "source": [
    "Welcome to your first set of Python coding problems.  If this is your first time using Kaggle Notebooks, welcome! \n",
    "\n",
    "Notebooks are composed of blocks (called \"cells\") of text and code. Each of these is editable, though you'll mainly be editing the code cells to answer some questions.\n",
    "\n",
    "To get started, try running the code cell below (by pressing the ► button, or clicking on the cell and pressing ctrl+enter on your keyboard)."
   ]
  },
  {
   "cell_type": "code",
   "execution_count": 1,
   "id": "13533d86",
   "metadata": {
    "execution": {
     "iopub.execute_input": "2023-11-08T20:20:45.935090Z",
     "iopub.status.busy": "2023-11-08T20:20:45.934492Z",
     "iopub.status.idle": "2023-11-08T20:20:45.948459Z",
     "shell.execute_reply": "2023-11-08T20:20:45.947263Z"
    },
    "papermill": {
     "duration": 0.02703,
     "end_time": "2023-11-08T20:20:45.951180",
     "exception": false,
     "start_time": "2023-11-08T20:20:45.924150",
     "status": "completed"
    },
    "tags": []
   },
   "outputs": [
    {
     "name": "stdout",
     "output_type": "stream",
     "text": [
      "You've successfully run some Python code\n",
      "Congratulations!\n"
     ]
    }
   ],
   "source": [
    "print(\"You've successfully run some Python code\")\n",
    "print(\"Congratulations!\")"
   ]
  },
  {
   "cell_type": "markdown",
   "id": "c4ddd740",
   "metadata": {
    "papermill": {
     "duration": 0.008176,
     "end_time": "2023-11-08T20:20:45.967993",
     "exception": false,
     "start_time": "2023-11-08T20:20:45.959817",
     "status": "completed"
    },
    "tags": []
   },
   "source": [
    "Try adding another line of code in the cell above and re-running it. \n",
    "\n",
    "Now let's get a little fancier:  Add a new code cell by clicking on an existing code cell, hitting the escape key, and then hitting the `a` or `b` key.  The `a` key will add a cell above the current cell, and `b` adds a cell below.\n",
    "\n",
    "Great! Now you know how to use Notebooks.\n",
    "\n",
    "Each hands-on exercise starts by setting up our feedback and code checking mechanism. Run the code cell below to do that. Then you'll be ready to move on to question 0."
   ]
  },
  {
   "cell_type": "code",
   "execution_count": 2,
   "id": "ec49cefe",
   "metadata": {
    "_kg_hide-input": true,
    "_kg_hide-output": true,
    "execution": {
     "iopub.execute_input": "2023-11-08T20:20:45.986995Z",
     "iopub.status.busy": "2023-11-08T20:20:45.986342Z",
     "iopub.status.idle": "2023-11-08T20:20:46.507624Z",
     "shell.execute_reply": "2023-11-08T20:20:46.506089Z"
    },
    "papermill": {
     "duration": 0.534222,
     "end_time": "2023-11-08T20:20:46.510623",
     "exception": false,
     "start_time": "2023-11-08T20:20:45.976401",
     "status": "completed"
    },
    "tags": []
   },
   "outputs": [
    {
     "name": "stdout",
     "output_type": "stream",
     "text": [
      "Setup complete! You're ready to start question 0.\n"
     ]
    }
   ],
   "source": [
    "from learntools.core import binder; binder.bind(globals())\n",
    "from learntools.python.ex1 import *\n",
    "print(\"Setup complete! You're ready to start question 0.\")"
   ]
  },
  {
   "cell_type": "markdown",
   "id": "f539a222",
   "metadata": {
    "papermill": {
     "duration": 0.008808,
     "end_time": "2023-11-08T20:20:46.528279",
     "exception": false,
     "start_time": "2023-11-08T20:20:46.519471",
     "status": "completed"
    },
    "tags": []
   },
   "source": [
    "# 0.\n",
    "\n",
    "*This is a silly question intended as an introduction to the format we use for hands-on exercises throughout all Kaggle courses.*\n",
    "\n",
    "**What is your favorite color? **\n",
    "\n",
    "To complete this question, create a variable called `color` in the cell below with an appropriate value. The function call `q0.check()` (which we've already provided in the cell below) will check your answer."
   ]
  },
  {
   "cell_type": "code",
   "execution_count": 3,
   "id": "c8c0bdf8",
   "metadata": {
    "execution": {
     "iopub.execute_input": "2023-11-08T20:20:46.549215Z",
     "iopub.status.busy": "2023-11-08T20:20:46.548393Z",
     "iopub.status.idle": "2023-11-08T20:20:46.561142Z",
     "shell.execute_reply": "2023-11-08T20:20:46.559880Z"
    },
    "papermill": {
     "duration": 0.026501,
     "end_time": "2023-11-08T20:20:46.563749",
     "exception": false,
     "start_time": "2023-11-08T20:20:46.537248",
     "status": "completed"
    },
    "tags": []
   },
   "outputs": [
    {
     "data": {
      "application/javascript": [
       "parent.postMessage({\"jupyterEvent\": \"custom.exercise_interaction\", \"data\": {\"outcomeType\": 1, \"valueTowardsCompletion\": 0.25, \"interactionType\": 1, \"questionType\": 2, \"questionId\": \"0_ExerciseFormatTutorial\", \"learnToolsVersion\": \"0.3.4\", \"failureMessage\": \"\", \"exceptionClass\": \"\", \"trace\": \"\"}}, \"*\")"
      ],
      "text/plain": [
       "<IPython.core.display.Javascript object>"
      ]
     },
     "metadata": {},
     "output_type": "display_data"
    },
    {
     "data": {
      "text/markdown": [
       "<span style=\"color:#33cc33\">Correct:</span> What?! You got it right without needing a hint or anything? Drats. Well hey, you should still continue to the next step to get some practice asking for a hint and checking solutions. (Even though you obviously don't need any help here.)"
      ],
      "text/plain": [
       "Correct: What?! You got it right without needing a hint or anything? Drats. Well hey, you should still continue to the next step to get some practice asking for a hint and checking solutions. (Even though you obviously don't need any help here.)"
      ]
     },
     "metadata": {},
     "output_type": "display_data"
    }
   ],
   "source": [
    "# create a variable called color with an appropriate value on the line below\n",
    "# (Remember, strings in Python must be enclosed in 'single' or \"double\" quotes)\n",
    "____\n",
    "color = \"blue\"\n",
    "# Check your answer\n",
    "q0.check()"
   ]
  },
  {
   "cell_type": "markdown",
   "id": "918f1961",
   "metadata": {
    "papermill": {
     "duration": 0.009209,
     "end_time": "2023-11-08T20:20:46.582184",
     "exception": false,
     "start_time": "2023-11-08T20:20:46.572975",
     "status": "completed"
    },
    "tags": []
   },
   "source": [
    "Didn't get the right answer? How do you not even know your own favorite color?!\n",
    "\n",
    "Delete the `#` in the line below to make one of the lines run. You can choose between getting a hint or the full answer by choosing which line to remove the `#` from. \n",
    "\n",
    "Removing the `#` is called uncommenting, because it changes that line from a \"comment\" which Python doesn't run to code, which Python does run."
   ]
  },
  {
   "cell_type": "code",
   "execution_count": 4,
   "id": "389806ba",
   "metadata": {
    "execution": {
     "iopub.execute_input": "2023-11-08T20:20:46.602198Z",
     "iopub.status.busy": "2023-11-08T20:20:46.601737Z",
     "iopub.status.idle": "2023-11-08T20:20:46.606529Z",
     "shell.execute_reply": "2023-11-08T20:20:46.605227Z"
    },
    "papermill": {
     "duration": 0.018025,
     "end_time": "2023-11-08T20:20:46.609046",
     "exception": false,
     "start_time": "2023-11-08T20:20:46.591021",
     "status": "completed"
    },
    "tags": []
   },
   "outputs": [],
   "source": [
    "#q0.hint()\n",
    "#q0.solution()"
   ]
  },
  {
   "cell_type": "markdown",
   "id": "02005054",
   "metadata": {
    "papermill": {
     "duration": 0.008751,
     "end_time": "2023-11-08T20:20:46.627077",
     "exception": false,
     "start_time": "2023-11-08T20:20:46.618326",
     "status": "completed"
    },
    "tags": []
   },
   "source": [
    "The upcoming questions work the same way. The only thing that will change are the question numbers. For the next question, you'll call `q1.check()`, `q1.hint()`, `q1.solution()`, for question 2, you'll call `q2.check()`, and so on."
   ]
  },
  {
   "cell_type": "markdown",
   "id": "7386cebe",
   "metadata": {
    "papermill": {
     "duration": 0.00863,
     "end_time": "2023-11-08T20:20:46.644927",
     "exception": false,
     "start_time": "2023-11-08T20:20:46.636297",
     "status": "completed"
    },
    "tags": []
   },
   "source": [
    "<hr/>\n",
    "\n",
    "# 1.\n",
    "\n",
    "Complete the code below. In case it's helpful, here is the table of available arithmetic operations:\n",
    "\n",
    "\n",
    "\n",
    "| Operator     | Name           | Description                                            |\n",
    "|--------------|----------------|--------------------------------------------------------|\n",
    "| ``a + b``    | Addition       | Sum of ``a`` and ``b``                                 |\n",
    "| ``a - b``    | Subtraction    | Difference of ``a`` and ``b``                          |\n",
    "| ``a * b``    | Multiplication | Product of ``a`` and ``b``                             |\n",
    "| ``a / b``    | True division  | Quotient of ``a`` and ``b``                            |\n",
    "| ``a // b``   | Floor division | Quotient of ``a`` and ``b``, removing fractional parts |\n",
    "| ``a % b``    | Modulus        | Integer remainder after division of ``a`` by ``b``     |\n",
    "| ``a ** b``   | Exponentiation | ``a`` raised to the power of ``b``                     |\n",
    "| ``-a``       | Negation       | The negative of ``a``                                  |\n",
    "\n",
    "<span style=\"display:none\"></span>\n"
   ]
  },
  {
   "cell_type": "code",
   "execution_count": 5,
   "id": "44d3608e",
   "metadata": {
    "execution": {
     "iopub.execute_input": "2023-11-08T20:20:46.666074Z",
     "iopub.status.busy": "2023-11-08T20:20:46.665055Z",
     "iopub.status.idle": "2023-11-08T20:20:46.675648Z",
     "shell.execute_reply": "2023-11-08T20:20:46.674510Z"
    },
    "papermill": {
     "duration": 0.023659,
     "end_time": "2023-11-08T20:20:46.677935",
     "exception": false,
     "start_time": "2023-11-08T20:20:46.654276",
     "status": "completed"
    },
    "tags": []
   },
   "outputs": [
    {
     "data": {
      "application/javascript": [
       "parent.postMessage({\"jupyterEvent\": \"custom.exercise_interaction\", \"data\": {\"outcomeType\": 1, \"valueTowardsCompletion\": 0.25, \"interactionType\": 1, \"questionType\": 1, \"questionId\": \"1_CircleArea\", \"learnToolsVersion\": \"0.3.4\", \"failureMessage\": \"\", \"exceptionClass\": \"\", \"trace\": \"\"}}, \"*\")"
      ],
      "text/plain": [
       "<IPython.core.display.Javascript object>"
      ]
     },
     "metadata": {},
     "output_type": "display_data"
    },
    {
     "data": {
      "text/markdown": [
       "<span style=\"color:#33cc33\">Correct</span>"
      ],
      "text/plain": [
       "Correct"
      ]
     },
     "metadata": {},
     "output_type": "display_data"
    }
   ],
   "source": [
    "pi = 3.14159 # approximate\n",
    "diameter = 3\n",
    "\n",
    "# Create a variable called 'radius' equal to half the diameter\n",
    "____\n",
    "radius = diameter / 2\n",
    "# Create a variable called 'area', using the formula for the area of a circle: pi times the radius squared\n",
    "____\n",
    "area = pi * radius ** 2\n",
    "# Check your answer\n",
    "q1.check()"
   ]
  },
  {
   "cell_type": "code",
   "execution_count": 6,
   "id": "3cd42493",
   "metadata": {
    "execution": {
     "iopub.execute_input": "2023-11-08T20:20:46.698843Z",
     "iopub.status.busy": "2023-11-08T20:20:46.698085Z",
     "iopub.status.idle": "2023-11-08T20:20:46.702272Z",
     "shell.execute_reply": "2023-11-08T20:20:46.701475Z"
    },
    "papermill": {
     "duration": 0.017166,
     "end_time": "2023-11-08T20:20:46.704394",
     "exception": false,
     "start_time": "2023-11-08T20:20:46.687228",
     "status": "completed"
    },
    "tags": []
   },
   "outputs": [],
   "source": [
    "# Uncomment and run the lines below if you need help.\n",
    "#q1.hint()\n",
    "#q1.solution()"
   ]
  },
  {
   "cell_type": "markdown",
   "id": "59fc59f9",
   "metadata": {
    "papermill": {
     "duration": 0.008878,
     "end_time": "2023-11-08T20:20:46.722685",
     "exception": false,
     "start_time": "2023-11-08T20:20:46.713807",
     "status": "completed"
    },
    "tags": []
   },
   "source": [
    "<hr/>\n",
    "\n",
    "# 2.\n",
    "\n",
    "Add code to the following cell to swap variables `a` and `b` (so that `a` refers to the object previously referred to by `b` and vice versa)."
   ]
  },
  {
   "cell_type": "code",
   "execution_count": 7,
   "id": "224edbe4",
   "metadata": {
    "execution": {
     "iopub.execute_input": "2023-11-08T20:20:46.744142Z",
     "iopub.status.busy": "2023-11-08T20:20:46.743272Z",
     "iopub.status.idle": "2023-11-08T20:20:46.753240Z",
     "shell.execute_reply": "2023-11-08T20:20:46.752399Z"
    },
    "papermill": {
     "duration": 0.023428,
     "end_time": "2023-11-08T20:20:46.755328",
     "exception": false,
     "start_time": "2023-11-08T20:20:46.731900",
     "status": "completed"
    },
    "tags": []
   },
   "outputs": [
    {
     "data": {
      "application/javascript": [
       "parent.postMessage({\"jupyterEvent\": \"custom.exercise_interaction\", \"data\": {\"outcomeType\": 1, \"valueTowardsCompletion\": 0.25, \"interactionType\": 1, \"questionType\": 2, \"questionId\": \"2_VariableSwap\", \"learnToolsVersion\": \"0.3.4\", \"failureMessage\": \"\", \"exceptionClass\": \"\", \"trace\": \"\"}}, \"*\")"
      ],
      "text/plain": [
       "<IPython.core.display.Javascript object>"
      ]
     },
     "metadata": {},
     "output_type": "display_data"
    },
    {
     "data": {
      "text/markdown": [
       "<span style=\"color:#33cc33\">Correct:</span> \n",
       "\n",
       "The most straightforward solution is to use a third variable to temporarily store one of the old values. e.g.:\n",
       "\n",
       "    tmp = a\n",
       "    a = b\n",
       "    b = tmp\n",
       "\n",
       "If you've read lots of Python code, you might have seen the following trick to swap two variables in one line:\n",
       "\n",
       "    a, b = b, a\n",
       "\n",
       "We'll demystify this bit of Python magic later when we talk about *tuples*."
      ],
      "text/plain": [
       "Correct: \n",
       "\n",
       "The most straightforward solution is to use a third variable to temporarily store one of the old values. e.g.:\n",
       "\n",
       "    tmp = a\n",
       "    a = b\n",
       "    b = tmp\n",
       "\n",
       "If you've read lots of Python code, you might have seen the following trick to swap two variables in one line:\n",
       "\n",
       "    a, b = b, a\n",
       "\n",
       "We'll demystify this bit of Python magic later when we talk about *tuples*."
      ]
     },
     "metadata": {},
     "output_type": "display_data"
    }
   ],
   "source": [
    "########### Setup code - don't touch this part ######################\n",
    "# If you're curious, these are examples of lists. We'll talk about \n",
    "# them in depth a few lessons from now. For now, just know that they're\n",
    "# yet another type of Python object, like int or float.\n",
    "a = [1, 2, 3]\n",
    "b = [3, 2, 1]\n",
    "q2.store_original_ids()\n",
    "######################################################################\n",
    "\n",
    "# Your code goes here. Swap the values to which a and b refer.\n",
    "# If you get stuck, you can always uncomment one or both of the lines in\n",
    "# the next cell for a hint, or to peek at the solution.\n",
    "tempvariable = a\n",
    "a = b\n",
    "b = tempvariable\n",
    "\n",
    "######################################################################\n",
    "\n",
    "# Check your answer\n",
    "q2.check()"
   ]
  },
  {
   "cell_type": "code",
   "execution_count": 8,
   "id": "9bb36774",
   "metadata": {
    "execution": {
     "iopub.execute_input": "2023-11-08T20:20:46.776918Z",
     "iopub.status.busy": "2023-11-08T20:20:46.776133Z",
     "iopub.status.idle": "2023-11-08T20:20:46.780457Z",
     "shell.execute_reply": "2023-11-08T20:20:46.779644Z"
    },
    "papermill": {
     "duration": 0.017519,
     "end_time": "2023-11-08T20:20:46.782538",
     "exception": false,
     "start_time": "2023-11-08T20:20:46.765019",
     "status": "completed"
    },
    "tags": []
   },
   "outputs": [],
   "source": [
    "#q2.hint()"
   ]
  },
  {
   "cell_type": "code",
   "execution_count": 9,
   "id": "b925e726",
   "metadata": {
    "execution": {
     "iopub.execute_input": "2023-11-08T20:20:46.803705Z",
     "iopub.status.busy": "2023-11-08T20:20:46.803195Z",
     "iopub.status.idle": "2023-11-08T20:20:46.808206Z",
     "shell.execute_reply": "2023-11-08T20:20:46.807121Z"
    },
    "papermill": {
     "duration": 0.018303,
     "end_time": "2023-11-08T20:20:46.810599",
     "exception": false,
     "start_time": "2023-11-08T20:20:46.792296",
     "status": "completed"
    },
    "tags": []
   },
   "outputs": [],
   "source": [
    "#q2.solution()"
   ]
  },
  {
   "cell_type": "markdown",
   "id": "3ed1885c",
   "metadata": {
    "papermill": {
     "duration": 0.009405,
     "end_time": "2023-11-08T20:20:46.829789",
     "exception": false,
     "start_time": "2023-11-08T20:20:46.820384",
     "status": "completed"
    },
    "tags": []
   },
   "source": [
    "<hr/>\n",
    "\n",
    "# 3a.\n",
    "\n",
    "Add parentheses to the following expression so that it evaluates to 1."
   ]
  },
  {
   "cell_type": "code",
   "execution_count": 10,
   "id": "3880f99d",
   "metadata": {
    "execution": {
     "iopub.execute_input": "2023-11-08T20:20:46.851740Z",
     "iopub.status.busy": "2023-11-08T20:20:46.851238Z",
     "iopub.status.idle": "2023-11-08T20:20:46.857706Z",
     "shell.execute_reply": "2023-11-08T20:20:46.856923Z"
    },
    "papermill": {
     "duration": 0.0202,
     "end_time": "2023-11-08T20:20:46.859848",
     "exception": false,
     "start_time": "2023-11-08T20:20:46.839648",
     "status": "completed"
    },
    "tags": []
   },
   "outputs": [
    {
     "data": {
      "text/plain": [
       "4"
      ]
     },
     "execution_count": 10,
     "metadata": {},
     "output_type": "execute_result"
    }
   ],
   "source": [
    "5 - 3 // 2"
   ]
  },
  {
   "cell_type": "code",
   "execution_count": 11,
   "id": "79b32610",
   "metadata": {
    "execution": {
     "iopub.execute_input": "2023-11-08T20:20:46.883050Z",
     "iopub.status.busy": "2023-11-08T20:20:46.881707Z",
     "iopub.status.idle": "2023-11-08T20:20:46.887162Z",
     "shell.execute_reply": "2023-11-08T20:20:46.886052Z"
    },
    "papermill": {
     "duration": 0.019355,
     "end_time": "2023-11-08T20:20:46.889348",
     "exception": false,
     "start_time": "2023-11-08T20:20:46.869993",
     "status": "completed"
    },
    "tags": []
   },
   "outputs": [],
   "source": [
    "#q3.a.hint()"
   ]
  },
  {
   "cell_type": "code",
   "execution_count": 12,
   "id": "f09ca3f9",
   "metadata": {
    "execution": {
     "iopub.execute_input": "2023-11-08T20:20:46.911809Z",
     "iopub.status.busy": "2023-11-08T20:20:46.911271Z",
     "iopub.status.idle": "2023-11-08T20:20:46.920685Z",
     "shell.execute_reply": "2023-11-08T20:20:46.919541Z"
    },
    "papermill": {
     "duration": 0.02333,
     "end_time": "2023-11-08T20:20:46.922906",
     "exception": false,
     "start_time": "2023-11-08T20:20:46.899576",
     "status": "completed"
    },
    "tags": []
   },
   "outputs": [
    {
     "data": {
      "application/javascript": [
       "parent.postMessage({\"jupyterEvent\": \"custom.exercise_interaction\", \"data\": {\"interactionType\": 3, \"questionType\": 4, \"questionId\": \"3.1_ArithmeticParensEasy\", \"learnToolsVersion\": \"0.3.4\", \"valueTowardsCompletion\": 0.0, \"failureMessage\": \"\", \"exceptionClass\": \"\", \"trace\": \"\", \"outcomeType\": 4}}, \"*\")"
      ],
      "text/plain": [
       "<IPython.core.display.Javascript object>"
      ]
     },
     "metadata": {},
     "output_type": "display_data"
    },
    {
     "data": {
      "text/markdown": [
       "<span style=\"color:#33cc99\">Solution:</span> \n",
       "```python\n",
       "(5 - 3) // 2\n",
       "```"
      ],
      "text/plain": [
       "Solution: \n",
       "```python\n",
       "(5 - 3) // 2\n",
       "```"
      ]
     },
     "metadata": {},
     "output_type": "display_data"
    }
   ],
   "source": [
    "# Check your answer (Run this code cell to receive credit!)\n",
    "q3.a.solution()"
   ]
  },
  {
   "cell_type": "markdown",
   "id": "70561268",
   "metadata": {
    "papermill": {
     "duration": 0.010448,
     "end_time": "2023-11-08T20:20:46.944131",
     "exception": false,
     "start_time": "2023-11-08T20:20:46.933683",
     "status": "completed"
    },
    "tags": []
   },
   "source": [
    "# 3b.  <span title=\"A bit spicy\" style=\"color: darkgreen \">🌶️</span>\n",
    "\n",
    "<small>Questions, like this one, marked a spicy pepper are a bit harder.</small>\n",
    "\n",
    "Add parentheses to the following expression so that it evaluates to 0."
   ]
  },
  {
   "cell_type": "code",
   "execution_count": 13,
   "id": "ef79ebfa",
   "metadata": {
    "execution": {
     "iopub.execute_input": "2023-11-08T20:20:46.967339Z",
     "iopub.status.busy": "2023-11-08T20:20:46.966854Z",
     "iopub.status.idle": "2023-11-08T20:20:46.974071Z",
     "shell.execute_reply": "2023-11-08T20:20:46.972923Z"
    },
    "papermill": {
     "duration": 0.021565,
     "end_time": "2023-11-08T20:20:46.976263",
     "exception": false,
     "start_time": "2023-11-08T20:20:46.954698",
     "status": "completed"
    },
    "tags": []
   },
   "outputs": [
    {
     "data": {
      "text/plain": [
       "2"
      ]
     },
     "execution_count": 13,
     "metadata": {},
     "output_type": "execute_result"
    }
   ],
   "source": [
    "8 - 3 * 2 - 1 + 1"
   ]
  },
  {
   "cell_type": "code",
   "execution_count": 14,
   "id": "045732d6",
   "metadata": {
    "execution": {
     "iopub.execute_input": "2023-11-08T20:20:46.999741Z",
     "iopub.status.busy": "2023-11-08T20:20:46.999212Z",
     "iopub.status.idle": "2023-11-08T20:20:47.004657Z",
     "shell.execute_reply": "2023-11-08T20:20:47.003452Z"
    },
    "papermill": {
     "duration": 0.02022,
     "end_time": "2023-11-08T20:20:47.007037",
     "exception": false,
     "start_time": "2023-11-08T20:20:46.986817",
     "status": "completed"
    },
    "tags": []
   },
   "outputs": [],
   "source": [
    "#q3.b.hint()"
   ]
  },
  {
   "cell_type": "code",
   "execution_count": 15,
   "id": "bffcdf2a",
   "metadata": {
    "execution": {
     "iopub.execute_input": "2023-11-08T20:20:47.030381Z",
     "iopub.status.busy": "2023-11-08T20:20:47.029930Z",
     "iopub.status.idle": "2023-11-08T20:20:47.038920Z",
     "shell.execute_reply": "2023-11-08T20:20:47.037737Z"
    },
    "papermill": {
     "duration": 0.02391,
     "end_time": "2023-11-08T20:20:47.041528",
     "exception": false,
     "start_time": "2023-11-08T20:20:47.017618",
     "status": "completed"
    },
    "tags": []
   },
   "outputs": [
    {
     "data": {
      "application/javascript": [
       "parent.postMessage({\"jupyterEvent\": \"custom.exercise_interaction\", \"data\": {\"interactionType\": 3, \"questionType\": 4, \"questionId\": \"3.2_ArithmeticParensHard\", \"learnToolsVersion\": \"0.3.4\", \"valueTowardsCompletion\": 0.0, \"failureMessage\": \"\", \"exceptionClass\": \"\", \"trace\": \"\", \"outcomeType\": 4}}, \"*\")"
      ],
      "text/plain": [
       "<IPython.core.display.Javascript object>"
      ]
     },
     "metadata": {},
     "output_type": "display_data"
    },
    {
     "data": {
      "text/markdown": [
       "<span style=\"color:#33cc99\">Solution:</span> `(8 - 3) * (2 - (1 + 1))` is one solution. There may be others."
      ],
      "text/plain": [
       "Solution: `(8 - 3) * (2 - (1 + 1))` is one solution. There may be others."
      ]
     },
     "metadata": {},
     "output_type": "display_data"
    }
   ],
   "source": [
    "# Check your answer (Run this code cell to receive credit!)\n",
    "q3.b.solution()"
   ]
  },
  {
   "cell_type": "markdown",
   "id": "3f81ac55",
   "metadata": {
    "papermill": {
     "duration": 0.01096,
     "end_time": "2023-11-08T20:20:47.063946",
     "exception": false,
     "start_time": "2023-11-08T20:20:47.052986",
     "status": "completed"
    },
    "tags": []
   },
   "source": [
    "<hr/>\n",
    "\n",
    "# 4. \n",
    "Alice, Bob and Carol have agreed to pool their Halloween candy and split it evenly among themselves.\n",
    "For the sake of their friendship, any candies left over will be smashed. For example, if they collectively\n",
    "bring home 91 candies, they'll take 30 each and smash 1.\n",
    "\n",
    "Write an arithmetic expression below to calculate how many candies they must smash for a given haul."
   ]
  },
  {
   "cell_type": "code",
   "execution_count": 16,
   "id": "6ec777d7",
   "metadata": {
    "execution": {
     "iopub.execute_input": "2023-11-08T20:20:47.088684Z",
     "iopub.status.busy": "2023-11-08T20:20:47.087914Z",
     "iopub.status.idle": "2023-11-08T20:20:47.097933Z",
     "shell.execute_reply": "2023-11-08T20:20:47.096985Z"
    },
    "papermill": {
     "duration": 0.025168,
     "end_time": "2023-11-08T20:20:47.100250",
     "exception": false,
     "start_time": "2023-11-08T20:20:47.075082",
     "status": "completed"
    },
    "tags": []
   },
   "outputs": [
    {
     "data": {
      "application/javascript": [
       "parent.postMessage({\"jupyterEvent\": \"custom.exercise_interaction\", \"data\": {\"outcomeType\": 4, \"interactionType\": 1, \"questionType\": 1, \"questionId\": \"4_CandySplitting\", \"learnToolsVersion\": \"0.3.4\", \"valueTowardsCompletion\": 0.0, \"failureMessage\": \"\", \"exceptionClass\": \"\", \"trace\": \"\"}}, \"*\")"
      ],
      "text/plain": [
       "<IPython.core.display.Javascript object>"
      ]
     },
     "metadata": {},
     "output_type": "display_data"
    },
    {
     "data": {
      "text/markdown": [
       "<span style=\"color:#ccaa33\">Check:</span> When you've updated the starter code, `check()` will tell you whether your code is correct. You need to update the code that creates variable `to_smash`"
      ],
      "text/plain": [
       "Check: When you've updated the starter code, `check()` will tell you whether your code is correct. You need to update the code that creates variable `to_smash`"
      ]
     },
     "metadata": {},
     "output_type": "display_data"
    }
   ],
   "source": [
    "# Variables representing the number of candies collected by alice, bob, and carol\n",
    "alice_candies = 121\n",
    "bob_candies = 77\n",
    "carol_candies = 109\n",
    "\n",
    "# Your code goes here! Replace the right-hand side of this assignment with an expression\n",
    "# involving alice_candies, bob_candies, and carol_candies\n",
    "to_smash = -1\n",
    "\n",
    "# Check your answer\n",
    "q4.check()"
   ]
  },
  {
   "cell_type": "code",
   "execution_count": 17,
   "id": "f994248a",
   "metadata": {
    "execution": {
     "iopub.execute_input": "2023-11-08T20:20:47.125736Z",
     "iopub.status.busy": "2023-11-08T20:20:47.125210Z",
     "iopub.status.idle": "2023-11-08T20:20:47.130401Z",
     "shell.execute_reply": "2023-11-08T20:20:47.129171Z"
    },
    "papermill": {
     "duration": 0.020827,
     "end_time": "2023-11-08T20:20:47.132818",
     "exception": false,
     "start_time": "2023-11-08T20:20:47.111991",
     "status": "completed"
    },
    "tags": []
   },
   "outputs": [],
   "source": [
    "#q4.hint()\n",
    "#q4.solution()"
   ]
  },
  {
   "cell_type": "markdown",
   "id": "5f8d39f4",
   "metadata": {
    "papermill": {
     "duration": 0.011177,
     "end_time": "2023-11-08T20:20:47.155601",
     "exception": false,
     "start_time": "2023-11-08T20:20:47.144424",
     "status": "completed"
    },
    "tags": []
   },
   "source": [
    "# Keep Going\n",
    "\n",
    "Next up, you'll **[learn to write new functions and understand functions others write](https://www.kaggle.com/colinmorris/functions-and-getting-help)**. This will make you at least 10 times more productive as a Python programmer. "
   ]
  },
  {
   "cell_type": "markdown",
   "id": "7588d6a9",
   "metadata": {
    "papermill": {
     "duration": 0.010955,
     "end_time": "2023-11-08T20:20:47.178104",
     "exception": false,
     "start_time": "2023-11-08T20:20:47.167149",
     "status": "completed"
    },
    "tags": []
   },
   "source": [
    "---\n",
    "\n",
    "\n",
    "\n",
    "\n",
    "*Have questions or comments? Visit the [course discussion forum](https://www.kaggle.com/learn/python/discussion) to chat with other learners.*"
   ]
  }
 ],
 "metadata": {
  "kernelspec": {
   "display_name": "Python 3",
   "language": "python",
   "name": "python3"
  },
  "language_info": {
   "codemirror_mode": {
    "name": "ipython",
    "version": 3
   },
   "file_extension": ".py",
   "mimetype": "text/x-python",
   "name": "python",
   "nbconvert_exporter": "python",
   "pygments_lexer": "ipython3",
   "version": "3.10.12"
  },
  "papermill": {
   "default_parameters": {},
   "duration": 5.880925,
   "end_time": "2023-11-08T20:20:47.912069",
   "environment_variables": {},
   "exception": null,
   "input_path": "__notebook__.ipynb",
   "output_path": "__notebook__.ipynb",
   "parameters": {},
   "start_time": "2023-11-08T20:20:42.031144",
   "version": "2.4.0"
  }
 },
 "nbformat": 4,
 "nbformat_minor": 5
}
