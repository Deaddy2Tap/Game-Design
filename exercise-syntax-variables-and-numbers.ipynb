{
 "cells": [
  {
   "cell_type": "markdown",
   "id": "e25e61a7",
   "metadata": {
    "papermill": {
     "duration": 0.009547,
     "end_time": "2023-11-13T20:05:00.094451",
     "exception": false,
     "start_time": "2023-11-13T20:05:00.084904",
     "status": "completed"
    },
    "tags": []
   },
   "source": [
    "**This notebook is an exercise in the [Python](https://www.kaggle.com/learn/python) course.  You can reference the tutorial at [this link](https://www.kaggle.com/colinmorris/hello-python).**\n",
    "\n",
    "---\n"
   ]
  },
  {
   "cell_type": "markdown",
   "id": "a4a7813a",
   "metadata": {
    "papermill": {
     "duration": 0.008067,
     "end_time": "2023-11-13T20:05:00.111150",
     "exception": false,
     "start_time": "2023-11-13T20:05:00.103083",
     "status": "completed"
    },
    "tags": []
   },
   "source": [
    "Welcome to your first set of Python coding problems.  If this is your first time using Kaggle Notebooks, welcome! \n",
    "\n",
    "Notebooks are composed of blocks (called \"cells\") of text and code. Each of these is editable, though you'll mainly be editing the code cells to answer some questions.\n",
    "\n",
    "To get started, try running the code cell below (by pressing the ► button, or clicking on the cell and pressing ctrl+enter on your keyboard)."
   ]
  },
  {
   "cell_type": "code",
   "execution_count": 1,
   "id": "f95270ac",
   "metadata": {
    "execution": {
     "iopub.execute_input": "2023-11-13T20:05:00.130070Z",
     "iopub.status.busy": "2023-11-13T20:05:00.129618Z",
     "iopub.status.idle": "2023-11-13T20:05:00.144261Z",
     "shell.execute_reply": "2023-11-13T20:05:00.142491Z"
    },
    "papermill": {
     "duration": 0.027562,
     "end_time": "2023-11-13T20:05:00.147033",
     "exception": false,
     "start_time": "2023-11-13T20:05:00.119471",
     "status": "completed"
    },
    "tags": []
   },
   "outputs": [
    {
     "name": "stdout",
     "output_type": "stream",
     "text": [
      "You've successfully run some Python code\n",
      "Congratulations!\n"
     ]
    }
   ],
   "source": [
    "print(\"You've successfully run some Python code\")\n",
    "print(\"Congratulations!\")"
   ]
  },
  {
   "cell_type": "markdown",
   "id": "4b660e07",
   "metadata": {
    "papermill": {
     "duration": 0.008266,
     "end_time": "2023-11-13T20:05:00.164296",
     "exception": false,
     "start_time": "2023-11-13T20:05:00.156030",
     "status": "completed"
    },
    "tags": []
   },
   "source": [
    "Try adding another line of code in the cell above and re-running it. \n",
    "\n",
    "Now let's get a little fancier:  Add a new code cell by clicking on an existing code cell, hitting the escape key, and then hitting the `a` or `b` key.  The `a` key will add a cell above the current cell, and `b` adds a cell below.\n",
    "\n",
    "Great! Now you know how to use Notebooks.\n",
    "\n",
    "Each hands-on exercise starts by setting up our feedback and code checking mechanism. Run the code cell below to do that. Then you'll be ready to move on to question 0."
   ]
  },
  {
   "cell_type": "code",
   "execution_count": 2,
   "id": "0282019f",
   "metadata": {
    "_kg_hide-input": true,
    "_kg_hide-output": true,
    "execution": {
     "iopub.execute_input": "2023-11-13T20:05:00.183971Z",
     "iopub.status.busy": "2023-11-13T20:05:00.183493Z",
     "iopub.status.idle": "2023-11-13T20:05:00.699359Z",
     "shell.execute_reply": "2023-11-13T20:05:00.696933Z"
    },
    "papermill": {
     "duration": 0.529273,
     "end_time": "2023-11-13T20:05:00.702297",
     "exception": false,
     "start_time": "2023-11-13T20:05:00.173024",
     "status": "completed"
    },
    "tags": []
   },
   "outputs": [
    {
     "name": "stdout",
     "output_type": "stream",
     "text": [
      "Setup complete! You're ready to start question 0.\n"
     ]
    }
   ],
   "source": [
    "from learntools.core import binder; binder.bind(globals())\n",
    "from learntools.python.ex1 import *\n",
    "print(\"Setup complete! You're ready to start question 0.\")"
   ]
  },
  {
   "cell_type": "markdown",
   "id": "8337a23d",
   "metadata": {
    "papermill": {
     "duration": 0.008464,
     "end_time": "2023-11-13T20:05:00.719781",
     "exception": false,
     "start_time": "2023-11-13T20:05:00.711317",
     "status": "completed"
    },
    "tags": []
   },
   "source": [
    "# 0.\n",
    "\n",
    "*This is a silly question intended as an introduction to the format we use for hands-on exercises throughout all Kaggle courses.*\n",
    "\n",
    "**What is your favorite color? **\n",
    "\n",
    "To complete this question, create a variable called `color` in the cell below with an appropriate value. The function call `q0.check()` (which we've already provided in the cell below) will check your answer."
   ]
  },
  {
   "cell_type": "code",
   "execution_count": 3,
   "id": "048bba92",
   "metadata": {
    "execution": {
     "iopub.execute_input": "2023-11-13T20:05:00.739554Z",
     "iopub.status.busy": "2023-11-13T20:05:00.738855Z",
     "iopub.status.idle": "2023-11-13T20:05:00.750782Z",
     "shell.execute_reply": "2023-11-13T20:05:00.749658Z"
    },
    "papermill": {
     "duration": 0.024475,
     "end_time": "2023-11-13T20:05:00.753090",
     "exception": false,
     "start_time": "2023-11-13T20:05:00.728615",
     "status": "completed"
    },
    "tags": []
   },
   "outputs": [
    {
     "data": {
      "application/javascript": [
       "parent.postMessage({\"jupyterEvent\": \"custom.exercise_interaction\", \"data\": {\"outcomeType\": 1, \"valueTowardsCompletion\": 0.25, \"interactionType\": 1, \"questionType\": 2, \"questionId\": \"0_ExerciseFormatTutorial\", \"learnToolsVersion\": \"0.3.4\", \"failureMessage\": \"\", \"exceptionClass\": \"\", \"trace\": \"\"}}, \"*\")"
      ],
      "text/plain": [
       "<IPython.core.display.Javascript object>"
      ]
     },
     "metadata": {},
     "output_type": "display_data"
    },
    {
     "data": {
      "text/markdown": [
       "<span style=\"color:#33cc33\">Correct:</span> What?! You got it right without needing a hint or anything? Drats. Well hey, you should still continue to the next step to get some practice asking for a hint and checking solutions. (Even though you obviously don't need any help here.)"
      ],
      "text/plain": [
       "Correct: What?! You got it right without needing a hint or anything? Drats. Well hey, you should still continue to the next step to get some practice asking for a hint and checking solutions. (Even though you obviously don't need any help here.)"
      ]
     },
     "metadata": {},
     "output_type": "display_data"
    }
   ],
   "source": [
    "# create a variable called color with an appropriate value on the line below\n",
    "# (Remember, strings in Python must be enclosed in 'single' or \"double\" quotes)\n",
    "____\n",
    "color = \"blue\"\n",
    "# Check your answer\n",
    "q0.check()"
   ]
  },
  {
   "cell_type": "markdown",
   "id": "c3853063",
   "metadata": {
    "papermill": {
     "duration": 0.009538,
     "end_time": "2023-11-13T20:05:00.771738",
     "exception": false,
     "start_time": "2023-11-13T20:05:00.762200",
     "status": "completed"
    },
    "tags": []
   },
   "source": [
    "Didn't get the right answer? How do you not even know your own favorite color?!\n",
    "\n",
    "Delete the `#` in the line below to make one of the lines run. You can choose between getting a hint or the full answer by choosing which line to remove the `#` from. \n",
    "\n",
    "Removing the `#` is called uncommenting, because it changes that line from a \"comment\" which Python doesn't run to code, which Python does run."
   ]
  },
  {
   "cell_type": "code",
   "execution_count": 4,
   "id": "051396a9",
   "metadata": {
    "execution": {
     "iopub.execute_input": "2023-11-13T20:05:00.793908Z",
     "iopub.status.busy": "2023-11-13T20:05:00.793459Z",
     "iopub.status.idle": "2023-11-13T20:05:00.798300Z",
     "shell.execute_reply": "2023-11-13T20:05:00.796988Z"
    },
    "papermill": {
     "duration": 0.020066,
     "end_time": "2023-11-13T20:05:00.800853",
     "exception": false,
     "start_time": "2023-11-13T20:05:00.780787",
     "status": "completed"
    },
    "tags": []
   },
   "outputs": [],
   "source": [
    "#q0.hint()\n",
    "#q0.solution()"
   ]
  },
  {
   "cell_type": "markdown",
   "id": "e193d71b",
   "metadata": {
    "papermill": {
     "duration": 0.009004,
     "end_time": "2023-11-13T20:05:00.819386",
     "exception": false,
     "start_time": "2023-11-13T20:05:00.810382",
     "status": "completed"
    },
    "tags": []
   },
   "source": [
    "The upcoming questions work the same way. The only thing that will change are the question numbers. For the next question, you'll call `q1.check()`, `q1.hint()`, `q1.solution()`, for question 2, you'll call `q2.check()`, and so on."
   ]
  },
  {
   "cell_type": "markdown",
   "id": "72cb7b51",
   "metadata": {
    "papermill": {
     "duration": 0.009044,
     "end_time": "2023-11-13T20:05:00.837931",
     "exception": false,
     "start_time": "2023-11-13T20:05:00.828887",
     "status": "completed"
    },
    "tags": []
   },
   "source": [
    "<hr/>\n",
    "\n",
    "# 1.\n",
    "\n",
    "Complete the code below. In case it's helpful, here is the table of available arithmetic operations:\n",
    "\n",
    "\n",
    "\n",
    "| Operator     | Name           | Description                                            |\n",
    "|--------------|----------------|--------------------------------------------------------|\n",
    "| ``a + b``    | Addition       | Sum of ``a`` and ``b``                                 |\n",
    "| ``a - b``    | Subtraction    | Difference of ``a`` and ``b``                          |\n",
    "| ``a * b``    | Multiplication | Product of ``a`` and ``b``                             |\n",
    "| ``a / b``    | True division  | Quotient of ``a`` and ``b``                            |\n",
    "| ``a // b``   | Floor division | Quotient of ``a`` and ``b``, removing fractional parts |\n",
    "| ``a % b``    | Modulus        | Integer remainder after division of ``a`` by ``b``     |\n",
    "| ``a ** b``   | Exponentiation | ``a`` raised to the power of ``b``                     |\n",
    "| ``-a``       | Negation       | The negative of ``a``                                  |\n",
    "\n",
    "<span style=\"display:none\"></span>\n"
   ]
  },
  {
   "cell_type": "code",
   "execution_count": 5,
   "id": "60897086",
   "metadata": {
    "execution": {
     "iopub.execute_input": "2023-11-13T20:05:00.858688Z",
     "iopub.status.busy": "2023-11-13T20:05:00.857902Z",
     "iopub.status.idle": "2023-11-13T20:05:00.869005Z",
     "shell.execute_reply": "2023-11-13T20:05:00.867863Z"
    },
    "papermill": {
     "duration": 0.024238,
     "end_time": "2023-11-13T20:05:00.871440",
     "exception": false,
     "start_time": "2023-11-13T20:05:00.847202",
     "status": "completed"
    },
    "tags": []
   },
   "outputs": [
    {
     "data": {
      "application/javascript": [
       "parent.postMessage({\"jupyterEvent\": \"custom.exercise_interaction\", \"data\": {\"outcomeType\": 1, \"valueTowardsCompletion\": 0.25, \"interactionType\": 1, \"questionType\": 1, \"questionId\": \"1_CircleArea\", \"learnToolsVersion\": \"0.3.4\", \"failureMessage\": \"\", \"exceptionClass\": \"\", \"trace\": \"\"}}, \"*\")"
      ],
      "text/plain": [
       "<IPython.core.display.Javascript object>"
      ]
     },
     "metadata": {},
     "output_type": "display_data"
    },
    {
     "data": {
      "text/markdown": [
       "<span style=\"color:#33cc33\">Correct</span>"
      ],
      "text/plain": [
       "Correct"
      ]
     },
     "metadata": {},
     "output_type": "display_data"
    }
   ],
   "source": [
    "pi = 3.14159 # approximate\n",
    "diameter = 3\n",
    "\n",
    "# Create a variable called 'radius' equal to half the diameter\n",
    "____\n",
    "radius = diameter / 2\n",
    "# Create a variable called 'area', using the formula for the area of a circle: pi times the radius squared\n",
    "____\n",
    "area = pi * radius ** 2\n",
    "# Check your answer\n",
    "q1.check()"
   ]
  },
  {
   "cell_type": "code",
   "execution_count": 6,
   "id": "762732d5",
   "metadata": {
    "execution": {
     "iopub.execute_input": "2023-11-13T20:05:00.893300Z",
     "iopub.status.busy": "2023-11-13T20:05:00.892281Z",
     "iopub.status.idle": "2023-11-13T20:05:00.897685Z",
     "shell.execute_reply": "2023-11-13T20:05:00.896786Z"
    },
    "papermill": {
     "duration": 0.018999,
     "end_time": "2023-11-13T20:05:00.900051",
     "exception": false,
     "start_time": "2023-11-13T20:05:00.881052",
     "status": "completed"
    },
    "tags": []
   },
   "outputs": [],
   "source": [
    "# Uncomment and run the lines below if you need help.\n",
    "#q1.hint()\n",
    "#q1.solution()"
   ]
  },
  {
   "cell_type": "markdown",
   "id": "f1319e98",
   "metadata": {
    "papermill": {
     "duration": 0.00942,
     "end_time": "2023-11-13T20:05:00.919325",
     "exception": false,
     "start_time": "2023-11-13T20:05:00.909905",
     "status": "completed"
    },
    "tags": []
   },
   "source": [
    "<hr/>\n",
    "\n",
    "# 2.\n",
    "\n",
    "Add code to the following cell to swap variables `a` and `b` (so that `a` refers to the object previously referred to by `b` and vice versa)."
   ]
  },
  {
   "cell_type": "code",
   "execution_count": 7,
   "id": "5a3684c6",
   "metadata": {
    "execution": {
     "iopub.execute_input": "2023-11-13T20:05:00.941652Z",
     "iopub.status.busy": "2023-11-13T20:05:00.940381Z",
     "iopub.status.idle": "2023-11-13T20:05:00.952021Z",
     "shell.execute_reply": "2023-11-13T20:05:00.950878Z"
    },
    "papermill": {
     "duration": 0.025669,
     "end_time": "2023-11-13T20:05:00.954875",
     "exception": false,
     "start_time": "2023-11-13T20:05:00.929206",
     "status": "completed"
    },
    "tags": []
   },
   "outputs": [
    {
     "data": {
      "application/javascript": [
       "parent.postMessage({\"jupyterEvent\": \"custom.exercise_interaction\", \"data\": {\"outcomeType\": 1, \"valueTowardsCompletion\": 0.25, \"interactionType\": 1, \"questionType\": 2, \"questionId\": \"2_VariableSwap\", \"learnToolsVersion\": \"0.3.4\", \"failureMessage\": \"\", \"exceptionClass\": \"\", \"trace\": \"\"}}, \"*\")"
      ],
      "text/plain": [
       "<IPython.core.display.Javascript object>"
      ]
     },
     "metadata": {},
     "output_type": "display_data"
    },
    {
     "data": {
      "text/markdown": [
       "<span style=\"color:#33cc33\">Correct:</span> \n",
       "\n",
       "The most straightforward solution is to use a third variable to temporarily store one of the old values. e.g.:\n",
       "\n",
       "    tmp = a\n",
       "    a = b\n",
       "    b = tmp\n",
       "\n",
       "If you've read lots of Python code, you might have seen the following trick to swap two variables in one line:\n",
       "\n",
       "    a, b = b, a\n",
       "\n",
       "We'll demystify this bit of Python magic later when we talk about *tuples*."
      ],
      "text/plain": [
       "Correct: \n",
       "\n",
       "The most straightforward solution is to use a third variable to temporarily store one of the old values. e.g.:\n",
       "\n",
       "    tmp = a\n",
       "    a = b\n",
       "    b = tmp\n",
       "\n",
       "If you've read lots of Python code, you might have seen the following trick to swap two variables in one line:\n",
       "\n",
       "    a, b = b, a\n",
       "\n",
       "We'll demystify this bit of Python magic later when we talk about *tuples*."
      ]
     },
     "metadata": {},
     "output_type": "display_data"
    }
   ],
   "source": [
    "########### Setup code - don't touch this part ######################\n",
    "# If you're curious, these are examples of lists. We'll talk about \n",
    "# them in depth a few lessons from now. For now, just know that they're\n",
    "# yet another type of Python object, like int or float.\n",
    "a = [1, 2, 3]\n",
    "b = [3, 2, 1]\n",
    "q2.store_original_ids()\n",
    "######################################################################\n",
    "\n",
    "# Your code goes here. Swap the values to which a and b refer.\n",
    "# If you get stuck, you can always uncomment one or both of the lines in\n",
    "# the next cell for a hint, or to peek at the solution.\n",
    "tempvariable = a\n",
    "a = b\n",
    "b = tempvariable\n",
    "\n",
    "######################################################################\n",
    "\n",
    "# Check your answer\n",
    "q2.check()"
   ]
  },
  {
   "cell_type": "code",
   "execution_count": 8,
   "id": "9742eda9",
   "metadata": {
    "execution": {
     "iopub.execute_input": "2023-11-13T20:05:00.977523Z",
     "iopub.status.busy": "2023-11-13T20:05:00.976781Z",
     "iopub.status.idle": "2023-11-13T20:05:00.981524Z",
     "shell.execute_reply": "2023-11-13T20:05:00.980752Z"
    },
    "papermill": {
     "duration": 0.018782,
     "end_time": "2023-11-13T20:05:00.983705",
     "exception": false,
     "start_time": "2023-11-13T20:05:00.964923",
     "status": "completed"
    },
    "tags": []
   },
   "outputs": [],
   "source": [
    "#q2.hint()"
   ]
  },
  {
   "cell_type": "code",
   "execution_count": 9,
   "id": "ba54eadc",
   "metadata": {
    "execution": {
     "iopub.execute_input": "2023-11-13T20:05:01.006432Z",
     "iopub.status.busy": "2023-11-13T20:05:01.005708Z",
     "iopub.status.idle": "2023-11-13T20:05:01.010673Z",
     "shell.execute_reply": "2023-11-13T20:05:01.009761Z"
    },
    "papermill": {
     "duration": 0.019241,
     "end_time": "2023-11-13T20:05:01.013004",
     "exception": false,
     "start_time": "2023-11-13T20:05:00.993763",
     "status": "completed"
    },
    "tags": []
   },
   "outputs": [],
   "source": [
    "#q2.solution()"
   ]
  },
  {
   "cell_type": "markdown",
   "id": "03dfc982",
   "metadata": {
    "papermill": {
     "duration": 0.010329,
     "end_time": "2023-11-13T20:05:01.033943",
     "exception": false,
     "start_time": "2023-11-13T20:05:01.023614",
     "status": "completed"
    },
    "tags": []
   },
   "source": [
    "<hr/>\n",
    "\n",
    "# 3a.\n",
    "\n",
    "Add parentheses to the following expression so that it evaluates to 1."
   ]
  },
  {
   "cell_type": "code",
   "execution_count": 10,
   "id": "3445015b",
   "metadata": {
    "execution": {
     "iopub.execute_input": "2023-11-13T20:05:01.057474Z",
     "iopub.status.busy": "2023-11-13T20:05:01.056666Z",
     "iopub.status.idle": "2023-11-13T20:05:01.063443Z",
     "shell.execute_reply": "2023-11-13T20:05:01.062166Z"
    },
    "papermill": {
     "duration": 0.021761,
     "end_time": "2023-11-13T20:05:01.065948",
     "exception": false,
     "start_time": "2023-11-13T20:05:01.044187",
     "status": "completed"
    },
    "tags": []
   },
   "outputs": [
    {
     "data": {
      "text/plain": [
       "1"
      ]
     },
     "execution_count": 10,
     "metadata": {},
     "output_type": "execute_result"
    }
   ],
   "source": [
    "(5 - 3) // 2"
   ]
  },
  {
   "cell_type": "code",
   "execution_count": 11,
   "id": "9328f78f",
   "metadata": {
    "execution": {
     "iopub.execute_input": "2023-11-13T20:05:01.089659Z",
     "iopub.status.busy": "2023-11-13T20:05:01.089133Z",
     "iopub.status.idle": "2023-11-13T20:05:01.094904Z",
     "shell.execute_reply": "2023-11-13T20:05:01.093664Z"
    },
    "papermill": {
     "duration": 0.020379,
     "end_time": "2023-11-13T20:05:01.097319",
     "exception": false,
     "start_time": "2023-11-13T20:05:01.076940",
     "status": "completed"
    },
    "tags": []
   },
   "outputs": [],
   "source": [
    "#q3.a.hint()"
   ]
  },
  {
   "cell_type": "code",
   "execution_count": 12,
   "id": "537aeb85",
   "metadata": {
    "execution": {
     "iopub.execute_input": "2023-11-13T20:05:01.120682Z",
     "iopub.status.busy": "2023-11-13T20:05:01.120172Z",
     "iopub.status.idle": "2023-11-13T20:05:01.129727Z",
     "shell.execute_reply": "2023-11-13T20:05:01.128789Z"
    },
    "papermill": {
     "duration": 0.024309,
     "end_time": "2023-11-13T20:05:01.132048",
     "exception": false,
     "start_time": "2023-11-13T20:05:01.107739",
     "status": "completed"
    },
    "tags": []
   },
   "outputs": [
    {
     "data": {
      "application/javascript": [
       "parent.postMessage({\"jupyterEvent\": \"custom.exercise_interaction\", \"data\": {\"interactionType\": 3, \"questionType\": 4, \"questionId\": \"3.1_ArithmeticParensEasy\", \"learnToolsVersion\": \"0.3.4\", \"valueTowardsCompletion\": 0.0, \"failureMessage\": \"\", \"exceptionClass\": \"\", \"trace\": \"\", \"outcomeType\": 4}}, \"*\")"
      ],
      "text/plain": [
       "<IPython.core.display.Javascript object>"
      ]
     },
     "metadata": {},
     "output_type": "display_data"
    },
    {
     "data": {
      "text/markdown": [
       "<span style=\"color:#33cc99\">Solution:</span> \n",
       "```python\n",
       "(5 - 3) // 2\n",
       "```"
      ],
      "text/plain": [
       "Solution: \n",
       "```python\n",
       "(5 - 3) // 2\n",
       "```"
      ]
     },
     "metadata": {},
     "output_type": "display_data"
    }
   ],
   "source": [
    "# Check your answer (Run this code cell to receive credit!)\n",
    "q3.a.solution()"
   ]
  },
  {
   "cell_type": "markdown",
   "id": "155b8f4a",
   "metadata": {
    "papermill": {
     "duration": 0.010346,
     "end_time": "2023-11-13T20:05:01.154112",
     "exception": false,
     "start_time": "2023-11-13T20:05:01.143766",
     "status": "completed"
    },
    "tags": []
   },
   "source": [
    "# 3b.  <span title=\"A bit spicy\" style=\"color: darkgreen \">🌶️</span>\n",
    "\n",
    "<small>Questions, like this one, marked a spicy pepper are a bit harder.</small>\n",
    "\n",
    "Add parentheses to the following expression so that it evaluates to 0."
   ]
  },
  {
   "cell_type": "code",
   "execution_count": 13,
   "id": "6e6967f6",
   "metadata": {
    "execution": {
     "iopub.execute_input": "2023-11-13T20:05:01.178513Z",
     "iopub.status.busy": "2023-11-13T20:05:01.177455Z",
     "iopub.status.idle": "2023-11-13T20:05:01.184567Z",
     "shell.execute_reply": "2023-11-13T20:05:01.183549Z"
    },
    "papermill": {
     "duration": 0.021989,
     "end_time": "2023-11-13T20:05:01.186955",
     "exception": false,
     "start_time": "2023-11-13T20:05:01.164966",
     "status": "completed"
    },
    "tags": []
   },
   "outputs": [
    {
     "data": {
      "text/plain": [
       "0"
      ]
     },
     "execution_count": 13,
     "metadata": {},
     "output_type": "execute_result"
    }
   ],
   "source": [
    "(8 - 3) * (2 - (1 + 1))"
   ]
  },
  {
   "cell_type": "code",
   "execution_count": 14,
   "id": "79a90532",
   "metadata": {
    "execution": {
     "iopub.execute_input": "2023-11-13T20:05:01.211875Z",
     "iopub.status.busy": "2023-11-13T20:05:01.211373Z",
     "iopub.status.idle": "2023-11-13T20:05:01.216681Z",
     "shell.execute_reply": "2023-11-13T20:05:01.215573Z"
    },
    "papermill": {
     "duration": 0.020372,
     "end_time": "2023-11-13T20:05:01.218935",
     "exception": false,
     "start_time": "2023-11-13T20:05:01.198563",
     "status": "completed"
    },
    "tags": []
   },
   "outputs": [],
   "source": [
    "#q3.b.hint()"
   ]
  },
  {
   "cell_type": "code",
   "execution_count": 15,
   "id": "0795b680",
   "metadata": {
    "execution": {
     "iopub.execute_input": "2023-11-13T20:05:01.243644Z",
     "iopub.status.busy": "2023-11-13T20:05:01.242765Z",
     "iopub.status.idle": "2023-11-13T20:05:01.251806Z",
     "shell.execute_reply": "2023-11-13T20:05:01.250722Z"
    },
    "papermill": {
     "duration": 0.024277,
     "end_time": "2023-11-13T20:05:01.254217",
     "exception": false,
     "start_time": "2023-11-13T20:05:01.229940",
     "status": "completed"
    },
    "tags": []
   },
   "outputs": [
    {
     "data": {
      "application/javascript": [
       "parent.postMessage({\"jupyterEvent\": \"custom.exercise_interaction\", \"data\": {\"interactionType\": 3, \"questionType\": 4, \"questionId\": \"3.2_ArithmeticParensHard\", \"learnToolsVersion\": \"0.3.4\", \"valueTowardsCompletion\": 0.0, \"failureMessage\": \"\", \"exceptionClass\": \"\", \"trace\": \"\", \"outcomeType\": 4}}, \"*\")"
      ],
      "text/plain": [
       "<IPython.core.display.Javascript object>"
      ]
     },
     "metadata": {},
     "output_type": "display_data"
    },
    {
     "data": {
      "text/markdown": [
       "<span style=\"color:#33cc99\">Solution:</span> `(8 - 3) * (2 - (1 + 1))` is one solution. There may be others."
      ],
      "text/plain": [
       "Solution: `(8 - 3) * (2 - (1 + 1))` is one solution. There may be others."
      ]
     },
     "metadata": {},
     "output_type": "display_data"
    }
   ],
   "source": [
    "# Check your answer (Run this code cell to receive credit!)\n",
    "q3.b.solution()"
   ]
  },
  {
   "cell_type": "markdown",
   "id": "2aba1a6e",
   "metadata": {
    "papermill": {
     "duration": 0.011105,
     "end_time": "2023-11-13T20:05:01.277128",
     "exception": false,
     "start_time": "2023-11-13T20:05:01.266023",
     "status": "completed"
    },
    "tags": []
   },
   "source": [
    "<hr/>\n",
    "\n",
    "# 4. \n",
    "Alice, Bob and Carol have agreed to pool their Halloween candy and split it evenly among themselves.\n",
    "For the sake of their friendship, any candies left over will be smashed. For example, if they collectively\n",
    "bring home 91 candies, they'll take 30 each and smash 1.\n",
    "\n",
    "Write an arithmetic expression below to calculate how many candies they must smash for a given haul."
   ]
  },
  {
   "cell_type": "code",
   "execution_count": 16,
   "id": "60eacf58",
   "metadata": {
    "execution": {
     "iopub.execute_input": "2023-11-13T20:05:01.302404Z",
     "iopub.status.busy": "2023-11-13T20:05:01.301921Z",
     "iopub.status.idle": "2023-11-13T20:05:01.312569Z",
     "shell.execute_reply": "2023-11-13T20:05:01.311481Z"
    },
    "papermill": {
     "duration": 0.026322,
     "end_time": "2023-11-13T20:05:01.314903",
     "exception": false,
     "start_time": "2023-11-13T20:05:01.288581",
     "status": "completed"
    },
    "tags": []
   },
   "outputs": [
    {
     "data": {
      "application/javascript": [
       "parent.postMessage({\"jupyterEvent\": \"custom.exercise_interaction\", \"data\": {\"outcomeType\": 1, \"valueTowardsCompletion\": 0.25, \"interactionType\": 1, \"questionType\": 1, \"questionId\": \"4_CandySplitting\", \"learnToolsVersion\": \"0.3.4\", \"failureMessage\": \"\", \"exceptionClass\": \"\", \"trace\": \"\"}}, \"*\")"
      ],
      "text/plain": [
       "<IPython.core.display.Javascript object>"
      ]
     },
     "metadata": {},
     "output_type": "display_data"
    },
    {
     "data": {
      "text/markdown": [
       "<span style=\"color:#33cc33\">Correct</span>"
      ],
      "text/plain": [
       "Correct"
      ]
     },
     "metadata": {},
     "output_type": "display_data"
    }
   ],
   "source": [
    "# Variables representing the number of candies collected by alice, bob, and carol\n",
    "alice_candies = 121\n",
    "bob_candies = 77\n",
    "carol_candies = 109\n",
    "\n",
    "# Your code goes here! Replace the right-hand side of this assignment with an expression\n",
    "# involving alice_candies, bob_candies, and carol_candies\n",
    "to_smash = (alice_candies + bob_candies + carol_candies) % 3\n",
    "\n",
    "# Check your answer\n",
    "q4.check()"
   ]
  },
  {
   "cell_type": "code",
   "execution_count": 17,
   "id": "f544afb2",
   "metadata": {
    "execution": {
     "iopub.execute_input": "2023-11-13T20:05:01.340773Z",
     "iopub.status.busy": "2023-11-13T20:05:01.340300Z",
     "iopub.status.idle": "2023-11-13T20:05:01.344585Z",
     "shell.execute_reply": "2023-11-13T20:05:01.343516Z"
    },
    "papermill": {
     "duration": 0.020502,
     "end_time": "2023-11-13T20:05:01.347101",
     "exception": false,
     "start_time": "2023-11-13T20:05:01.326599",
     "status": "completed"
    },
    "tags": []
   },
   "outputs": [],
   "source": [
    "#q4.hint()\n",
    "#q4.solution()"
   ]
  },
  {
   "cell_type": "markdown",
   "id": "450db69c",
   "metadata": {
    "papermill": {
     "duration": 0.011455,
     "end_time": "2023-11-13T20:05:01.370617",
     "exception": false,
     "start_time": "2023-11-13T20:05:01.359162",
     "status": "completed"
    },
    "tags": []
   },
   "source": [
    "# Keep Going\n",
    "\n",
    "Next up, you'll **[learn to write new functions and understand functions others write](https://www.kaggle.com/colinmorris/functions-and-getting-help)**. This will make you at least 10 times more productive as a Python programmer. "
   ]
  },
  {
   "cell_type": "markdown",
   "id": "e644382b",
   "metadata": {
    "papermill": {
     "duration": 0.011773,
     "end_time": "2023-11-13T20:05:01.394776",
     "exception": false,
     "start_time": "2023-11-13T20:05:01.383003",
     "status": "completed"
    },
    "tags": []
   },
   "source": [
    "---\n",
    "\n",
    "\n",
    "\n",
    "\n",
    "*Have questions or comments? Visit the [course discussion forum](https://www.kaggle.com/learn/python/discussion) to chat with other learners.*"
   ]
  }
 ],
 "metadata": {
  "kernelspec": {
   "display_name": "Python 3",
   "language": "python",
   "name": "python3"
  },
  "language_info": {
   "codemirror_mode": {
    "name": "ipython",
    "version": 3
   },
   "file_extension": ".py",
   "mimetype": "text/x-python",
   "name": "python",
   "nbconvert_exporter": "python",
   "pygments_lexer": "ipython3",
   "version": "3.10.12"
  },
  "papermill": {
   "default_parameters": {},
   "duration": 5.642537,
   "end_time": "2023-11-13T20:05:02.029732",
   "environment_variables": {},
   "exception": null,
   "input_path": "__notebook__.ipynb",
   "output_path": "__notebook__.ipynb",
   "parameters": {},
   "start_time": "2023-11-13T20:04:56.387195",
   "version": "2.4.0"
  }
 },
 "nbformat": 4,
 "nbformat_minor": 5
}
